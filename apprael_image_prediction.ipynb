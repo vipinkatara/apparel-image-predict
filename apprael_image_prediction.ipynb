{
  "nbformat": 4,
  "nbformat_minor": 0,
  "metadata": {
    "colab": {
      "name": "apprael-image-prediction",
      "provenance": [],
      "collapsed_sections": []
    },
    "kernelspec": {
      "name": "python3",
      "display_name": "Python 3"
    },
    "accelerator": "GPU"
  },
  "cells": [
    {
      "cell_type": "markdown",
      "metadata": {
        "id": "cKgR0vbIyGZl",
        "colab_type": "text"
      },
      "source": [
        "# Importing **Libraries**"
      ]
    },
    {
      "cell_type": "code",
      "metadata": {
        "id": "K0IzfdD3fOsW",
        "colab_type": "code",
        "colab": {
          "base_uri": "https://localhost:8080/",
          "height": 34
        },
        "outputId": "f8f41d12-8d75-42f2-ee4f-d73b1e36c304"
      },
      "source": [
        "import pandas as pd\n",
        "import cv2 \n",
        "import os\n",
        "import numpy as np\n",
        "import matplotlib.pyplot as plt\n",
        "import keras\n",
        "from keras.utils import to_categorical\n",
        "from keras.models import Sequential\n",
        "from keras.layers import MaxPool2D, Conv2D, BatchNormalization, Dense, Flatten, Dropout"
      ],
      "execution_count": 1,
      "outputs": [
        {
          "output_type": "stream",
          "text": [
            "Using TensorFlow backend.\n"
          ],
          "name": "stderr"
        }
      ]
    },
    {
      "cell_type": "markdown",
      "metadata": {
        "id": "PHIiDs4VySg7",
        "colab_type": "text"
      },
      "source": [
        "## Loading data"
      ]
    },
    {
      "cell_type": "code",
      "metadata": {
        "id": "Lq5ZnGSdfl1A",
        "colab_type": "code",
        "colab": {}
      },
      "source": [
        "data = []\n",
        "CATEGORIES = os.listdir()\n",
        "IMG_SIZE = 50\n",
        "for category in CATEGORIES:\n",
        "  class_num = CATEGORIES.index(category)\n",
        "  for img in os.listdir(category):\n",
        "    img_array = cv2.imread(os.path.join(category,img), 0)\n",
        "    new_array = cv2.resize(img_array, (IMG_SIZE,IMG_SIZE))\n",
        "    data.append([new_array, class_num])\n"
      ],
      "execution_count": 0,
      "outputs": []
    },
    {
      "cell_type": "code",
      "metadata": {
        "id": "nf3qZmGsynVU",
        "colab_type": "code",
        "colab": {
          "base_uri": "https://localhost:8080/",
          "height": 34
        },
        "outputId": "812589a6-2873-4ebd-c713-518bc94624b7"
      },
      "source": [
        "np.shape(data)"
      ],
      "execution_count": 3,
      "outputs": [
        {
          "output_type": "execute_result",
          "data": {
            "text/plain": [
              "(11385, 2)"
            ]
          },
          "metadata": {
            "tags": []
          },
          "execution_count": 3
        }
      ]
    },
    {
      "cell_type": "markdown",
      "metadata": {
        "id": "KaABtVoby3pX",
        "colab_type": "text"
      },
      "source": [
        "Separating features and labels"
      ]
    },
    {
      "cell_type": "code",
      "metadata": {
        "id": "gC6rw0E7fEm7",
        "colab_type": "code",
        "colab": {}
      },
      "source": [
        "X = []\n",
        "Y = []\n",
        "for feature, labels in data:\n",
        "  X.append(feature)\n",
        "  Y.append(labels)\n",
        "\n",
        "X = np.array(X)\n",
        "X = X / 255\n",
        "X = X.reshape(-1, IMG_SIZE,IMG_SIZE,1)"
      ],
      "execution_count": 0,
      "outputs": []
    },
    {
      "cell_type": "markdown",
      "metadata": {
        "id": "SwFAfv52yaO3",
        "colab_type": "text"
      },
      "source": [
        "## Ploting some images"
      ]
    },
    {
      "cell_type": "code",
      "metadata": {
        "id": "lpLJ9t9ZnjI1",
        "colab_type": "code",
        "colab": {
          "base_uri": "https://localhost:8080/",
          "height": 1000
        },
        "outputId": "98860c67-2bc5-4ddc-b5b8-fe11cae4386d"
      },
      "source": [
        "inde = [1, 21, 43, 324, 5343, 5342, 2333, 1222, 4567, 1235, 5674]\n",
        "for index in inde:\n",
        "    grid = X[index].reshape(IMG_SIZE,IMG_SIZE)\n",
        "    plt.imshow(grid, cmap='gray')\n",
        "    plt.show()\n",
        "    print(CATEGORIES[Y[index]])\n"
      ],
      "execution_count": 5,
      "outputs": [
        {
          "output_type": "display_data",
          "data": {
            "image/png": "[encoded data removed]",
            "text/plain": [
              "<Figure size 432x288 with 1 Axes>"
            ]
          },
          "metadata": {
            "tags": [],
            "needs_background": "light"
          }
        },
        {
          "output_type": "stream",
          "text": [
            "blue_shirt\n"
          ],
          "name": "stdout"
        },
        {
          "output_type": "display_data",
          "data": {
            "image/png": "[encoded data removed]",
            "text/plain": [
              "<Figure size 432x288 with 1 Axes>"
            ]
          },
          "metadata": {
            "tags": [],
            "needs_background": "light"
          }
        },
        {
          "output_type": "stream",
          "text": [
            "blue_shirt\n"
          ],
          "name": "stdout"
        },
        {
          "output_type": "display_data",
          "data": {
            "image/png": "[encoded data removed]",
            "text/plain": [
              "<Figure size 432x288 with 1 Axes>"
            ]
          },
          "metadata": {
            "tags": [],
            "needs_background": "light"
          }
        },
        {
          "output_type": "stream",
          "text": [
            "blue_shirt\n"
          ],
          "name": "stdout"
        },
        {
          "output_type": "display_data",
          "data": {
            "image/png": "[encoded data removed]",
            "text/plain": [
              "<Figure size 432x288 with 1 Axes>"
            ]
          },
          "metadata": {
            "tags": [],
            "needs_background": "light"
          }
        },
        {
          "output_type": "stream",
          "text": [
            "blue_shirt\n"
          ],
          "name": "stdout"
        },
        {
          "output_type": "display_data",
          "data": {
            "image/png": "[encoded data removed]",
            "text/plain": [
              "<Figure size 432x288 with 1 Axes>"
            ]
          },
          "metadata": {
            "tags": [],
            "needs_background": "light"
          }
        },
        {
          "output_type": "stream",
          "text": [
            "green_shirt\n"
          ],
          "name": "stdout"
        },
        {
          "output_type": "display_data",
          "data": {
            "image/png": "[encoded data removed]",
            "text/plain": [
              "<Figure size 432x288 with 1 Axes>"
            ]
          },
          "metadata": {
            "tags": [],
            "needs_background": "light"
          }
        },
        {
          "output_type": "stream",
          "text": [
            "green_shirt\n"
          ],
          "name": "stdout"
        },
        {
          "output_type": "display_data",
          "data": {
            "image/png": "[encoded data removed]",
            "text/plain": [
              "<Figure size 432x288 with 1 Axes>"
            ]
          },
          "metadata": {
            "tags": [],
            "needs_background": "light"
          }
        },
        {
          "output_type": "stream",
          "text": [
            "black_dress\n"
          ],
          "name": "stdout"
        },
        {
          "output_type": "display_data",
          "data": {
            "image/png": "[encoded data removed]",
            "text/plain": [
              "<Figure size 432x288 with 1 Axes>"
            ]
          },
          "metadata": {
            "tags": [],
            "needs_background": "light"
          }
        },
        {
          "output_type": "stream",
          "text": [
            "blue_pants\n"
          ],
          "name": "stdout"
        },
        {
          "output_type": "display_data",
          "data": {
            "image/png": "[encoded data removed]",
            "text/plain": [
              "<Figure size 432x288 with 1 Axes>"
            ]
          },
          "metadata": {
            "tags": [],
            "needs_background": "light"
          }
        },
        {
          "output_type": "stream",
          "text": [
            "white_pants\n"
          ],
          "name": "stdout"
        },
        {
          "output_type": "display_data",
          "data": {
            "image/png": "[encoded data removed]",
            "text/plain": [
              "<Figure size 432x288 with 1 Axes>"
            ]
          },
          "metadata": {
            "tags": [],
            "needs_background": "light"
          }
        },
        {
          "output_type": "stream",
          "text": [
            "blue_pants\n"
          ],
          "name": "stdout"
        },
        {
          "output_type": "display_data",
          "data": {
            "image/png": "[encoded data removed]",
            "text/plain": [
              "<Figure size 432x288 with 1 Axes>"
            ]
          },
          "metadata": {
            "tags": [],
            "needs_background": "light"
          }
        },
        {
          "output_type": "stream",
          "text": [
            "white_shoes\n"
          ],
          "name": "stdout"
        }
      ]
    },
    {
      "cell_type": "markdown",
      "metadata": {
        "id": "JQ6W4E9jzGaY",
        "colab_type": "text"
      },
      "source": [
        "## Converting features to categorical value"
      ]
    },
    {
      "cell_type": "code",
      "metadata": {
        "id": "FfCKFp9Fm-Wd",
        "colab_type": "code",
        "colab": {}
      },
      "source": [
        "Y = to_categorical(Y)"
      ],
      "execution_count": 0,
      "outputs": []
    },
    {
      "cell_type": "code",
      "metadata": {
        "id": "W2Wjce_FnIg9",
        "colab_type": "code",
        "colab": {
          "base_uri": "https://localhost:8080/",
          "height": 136
        },
        "outputId": "c4cb58c4-2cbf-40cc-b717-8c433d5d373b"
      },
      "source": [
        "Y"
      ],
      "execution_count": 7,
      "outputs": [
        {
          "output_type": "execute_result",
          "data": {
            "text/plain": [
              "array([[1., 0., 0., ..., 0., 0., 0.],\n",
              "       [1., 0., 0., ..., 0., 0., 0.],\n",
              "       [1., 0., 0., ..., 0., 0., 0.],\n",
              "       ...,\n",
              "       [0., 0., 0., ..., 0., 0., 1.],\n",
              "       [0., 0., 0., ..., 0., 0., 1.],\n",
              "       [0., 0., 0., ..., 0., 0., 1.]], dtype=float32)"
            ]
          },
          "metadata": {
            "tags": []
          },
          "execution_count": 7
        }
      ]
    },
    {
      "cell_type": "code",
      "metadata": {
        "id": "WUvs1kbDqbd_",
        "colab_type": "code",
        "colab": {}
      },
      "source": [
        ""
      ],
      "execution_count": 0,
      "outputs": []
    },
    {
      "cell_type": "markdown",
      "metadata": {
        "id": "o-hPT6Pbqa5Z",
        "colab_type": "text"
      },
      "source": [
        "CNN"
      ]
    },
    {
      "cell_type": "code",
      "metadata": {
        "id": "yjhuyTZDqgkL",
        "colab_type": "code",
        "colab": {
          "base_uri": "https://localhost:8080/",
          "height": 527
        },
        "outputId": "af456a16-9335-48d7-edb4-7e959e5077a5"
      },
      "source": [
        "model = Sequential()\n",
        "model.add(Conv2D(64, 3, data_format='channels_last', padding='same', input_shape=(IMG_SIZE, IMG_SIZE, 1)))\n",
        "model.add(MaxPool2D(pool_size=(2,2)))\n",
        "model.add(Conv2D(32, 3, data_format='channels_last', padding='same'))\n",
        "model.add(MaxPool2D(pool_size=(2,2)))\n",
        "model.add(Flatten())\n",
        "model.add(Dense(256, activation='relu'))\n",
        "model.add(Dropout(0.5))\n",
        "model.add(Dense(128, activation='relu'))\n",
        "model.add(Dense(64, activation='relu'))\n",
        "model.add(Dense(24, activation='relu'))\n",
        "model.add(Dense(24, activation='softmax'))\n",
        "model.compile(loss = keras.losses.categorical_crossentropy, optimizer=keras.optimizers.Adam(),\n",
        "              metrics=['accuracy'])\n",
        "model.summary()"
      ],
      "execution_count": 8,
      "outputs": [
        {
          "output_type": "stream",
          "text": [
            "Model: \"sequential_1\"\n",
            "_________________________________________________________________\n",
            "Layer (type)                 Output Shape              Param #   \n",
            "=================================================================\n",
            "conv2d_1 (Conv2D)            (None, 50, 50, 64)        640       \n",
            "_________________________________________________________________\n",
            "max_pooling2d_1 (MaxPooling2 (None, 25, 25, 64)        0         \n",
            "_________________________________________________________________\n",
            "conv2d_2 (Conv2D)            (None, 25, 25, 32)        18464     \n",
            "_________________________________________________________________\n",
            "max_pooling2d_2 (MaxPooling2 (None, 12, 12, 32)        0         \n",
            "_________________________________________________________________\n",
            "flatten_1 (Flatten)          (None, 4608)              0         \n",
            "_________________________________________________________________\n",
            "dense_1 (Dense)              (None, 256)               1179904   \n",
            "_________________________________________________________________\n",
            "dropout_1 (Dropout)          (None, 256)               0         \n",
            "_________________________________________________________________\n",
            "dense_2 (Dense)              (None, 128)               32896     \n",
            "_________________________________________________________________\n",
            "dense_3 (Dense)              (None, 64)                8256      \n",
            "_________________________________________________________________\n",
            "dense_4 (Dense)              (None, 24)                1560      \n",
            "_________________________________________________________________\n",
            "dense_5 (Dense)              (None, 24)                600       \n",
            "=================================================================\n",
            "Total params: 1,242,320\n",
            "Trainable params: 1,242,320\n",
            "Non-trainable params: 0\n",
            "_________________________________________________________________\n"
          ],
          "name": "stdout"
        }
      ]
    },
    {
      "cell_type": "markdown",
      "metadata": {
        "id": "ik7ILkBHz3QP",
        "colab_type": "text"
      },
      "source": [
        "## Spliting the data into train, test and validation"
      ]
    },
    {
      "cell_type": "code",
      "metadata": {
        "id": "DhKwE6d4ztnI",
        "colab_type": "code",
        "colab": {}
      },
      "source": [
        "from sklearn.model_selection import train_test_split\n",
        "x_train, x_test, y_train, y_test = train_test_split(X, Y, test_size=0.1)\n",
        "x_train, x_val, y_train, y_val = train_test_split(x_train, y_train, test_size=0.1)"
      ],
      "execution_count": 0,
      "outputs": []
    },
    {
      "cell_type": "code",
      "metadata": {
        "id": "ETwwdFvqz1JB",
        "colab_type": "code",
        "colab": {}
      },
      "source": [
        ""
      ],
      "execution_count": 0,
      "outputs": []
    },
    {
      "cell_type": "markdown",
      "metadata": {
        "id": "9uSd9Pb-zlv_",
        "colab_type": "text"
      },
      "source": [
        "## Data Augumentation"
      ]
    },
    {
      "cell_type": "code",
      "metadata": {
        "id": "wpiglWnzzoaz",
        "colab_type": "code",
        "colab": {}
      },
      "source": [
        "from keras.preprocessing.image import ImageDataGenerator\n",
        "\n",
        "\n",
        "\n",
        "\n",
        "datagen = ImageDataGenerator(\n",
        "        featurewise_center=False,  # set input mean to 0 over the dataset\n",
        "        samplewise_center=False,  # set each sample mean to 0\n",
        "        featurewise_std_normalization=False,  # divide inputs by std of the dataset\n",
        "        samplewise_std_normalization=False,  # divide each input by its std\n",
        "        zca_whitening=False,  # apply ZCA whitening\n",
        "        rotation_range=10,  # randomly rotate images in the range (degrees, 0 to 180)\n",
        "        zoom_range = 0.1, # Randomly zoom image \n",
        "        width_shift_range=0.1,  # randomly shift images horizontally (fraction of total width)\n",
        "        height_shift_range=0.1,  # randomly shift images vertically (fraction of total height)\n",
        "        horizontal_flip=False,  # randomly flip images\n",
        "        vertical_flip=False)  # randomly flip images\n",
        "\n",
        "\n",
        "datagen.fit(x_train)\n"
      ],
      "execution_count": 0,
      "outputs": []
    },
    {
      "cell_type": "markdown",
      "metadata": {
        "id": "oayidAdy0Qwx",
        "colab_type": "text"
      },
      "source": [
        "## Fitting the data"
      ]
    },
    {
      "cell_type": "code",
      "metadata": {
        "id": "JbHMFSnn0WZs",
        "colab_type": "code",
        "colab": {
          "base_uri": "https://localhost:8080/",
          "height": 1000
        },
        "outputId": "c49411d7-9c94-4062-ca4e-9a2c2d61ade3"
      },
      "source": [
        "batch_size = 64\n",
        "epochs = 50\n",
        "history = model.fit_generator(datagen.flow(x_train,y_train, batch_size=batch_size),\n",
        "                              epochs = epochs, validation_data = (x_val,y_val))"
      ],
      "execution_count": 11,
      "outputs": [
        {
          "output_type": "stream",
          "text": [
            "Epoch 1/50\n",
            "145/145 [==============================] - 11s 76ms/step - loss: 2.7411 - accuracy: 0.2011 - val_loss: 2.2315 - val_accuracy: 0.3190\n",
            "Epoch 2/50\n",
            "145/145 [==============================] - 5s 32ms/step - loss: 2.1227 - accuracy: 0.3414 - val_loss: 1.7982 - val_accuracy: 0.4127\n",
            "Epoch 3/50\n",
            "145/145 [==============================] - 5s 33ms/step - loss: 1.8738 - accuracy: 0.4003 - val_loss: 1.6652 - val_accuracy: 0.4439\n",
            "Epoch 4/50\n",
            "145/145 [==============================] - 5s 33ms/step - loss: 1.7495 - accuracy: 0.4286 - val_loss: 1.5531 - val_accuracy: 0.4722\n",
            "Epoch 5/50\n",
            "145/145 [==============================] - 5s 32ms/step - loss: 1.6574 - accuracy: 0.4556 - val_loss: 1.4666 - val_accuracy: 0.4868\n",
            "Epoch 6/50\n",
            "145/145 [==============================] - 5s 33ms/step - loss: 1.6185 - accuracy: 0.4683 - val_loss: 1.4365 - val_accuracy: 0.4927\n",
            "Epoch 7/50\n",
            "145/145 [==============================] - 5s 32ms/step - loss: 1.5753 - accuracy: 0.4699 - val_loss: 1.4266 - val_accuracy: 0.5054\n",
            "Epoch 8/50\n",
            "145/145 [==============================] - 5s 32ms/step - loss: 1.5163 - accuracy: 0.4858 - val_loss: 1.3610 - val_accuracy: 0.5132\n",
            "Epoch 9/50\n",
            "145/145 [==============================] - 5s 32ms/step - loss: 1.5038 - accuracy: 0.4886 - val_loss: 1.3144 - val_accuracy: 0.5366\n",
            "Epoch 10/50\n",
            "145/145 [==============================] - 5s 33ms/step - loss: 1.4868 - accuracy: 0.4954 - val_loss: 1.3806 - val_accuracy: 0.5141\n",
            "Epoch 11/50\n",
            "145/145 [==============================] - 5s 32ms/step - loss: 1.4633 - accuracy: 0.4959 - val_loss: 1.3028 - val_accuracy: 0.5356\n",
            "Epoch 12/50\n",
            "145/145 [==============================] - 5s 32ms/step - loss: 1.4340 - accuracy: 0.5074 - val_loss: 1.2713 - val_accuracy: 0.5463\n",
            "Epoch 13/50\n",
            "145/145 [==============================] - 5s 32ms/step - loss: 1.4399 - accuracy: 0.5132 - val_loss: 1.2925 - val_accuracy: 0.5298\n",
            "Epoch 14/50\n",
            "145/145 [==============================] - 5s 32ms/step - loss: 1.4188 - accuracy: 0.5108 - val_loss: 1.2790 - val_accuracy: 0.5424\n",
            "Epoch 15/50\n",
            "145/145 [==============================] - 5s 33ms/step - loss: 1.3920 - accuracy: 0.5189 - val_loss: 1.3002 - val_accuracy: 0.5229\n",
            "Epoch 16/50\n",
            "145/145 [==============================] - 5s 33ms/step - loss: 1.3779 - accuracy: 0.5188 - val_loss: 1.3336 - val_accuracy: 0.5141\n",
            "Epoch 17/50\n",
            "145/145 [==============================] - 5s 33ms/step - loss: 1.4265 - accuracy: 0.5143 - val_loss: 1.3117 - val_accuracy: 0.5376\n",
            "Epoch 18/50\n",
            "145/145 [==============================] - 5s 32ms/step - loss: 1.3844 - accuracy: 0.5239 - val_loss: 1.2635 - val_accuracy: 0.5346\n",
            "Epoch 19/50\n",
            "145/145 [==============================] - 5s 33ms/step - loss: 1.3477 - accuracy: 0.5303 - val_loss: 1.2338 - val_accuracy: 0.5561\n",
            "Epoch 20/50\n",
            "145/145 [==============================] - 5s 33ms/step - loss: 1.3338 - accuracy: 0.5329 - val_loss: 1.2678 - val_accuracy: 0.5483\n",
            "Epoch 21/50\n",
            "145/145 [==============================] - 5s 32ms/step - loss: 1.3483 - accuracy: 0.5289 - val_loss: 1.2639 - val_accuracy: 0.5346\n",
            "Epoch 22/50\n",
            "145/145 [==============================] - 5s 32ms/step - loss: 1.3270 - accuracy: 0.5382 - val_loss: 1.3189 - val_accuracy: 0.5366\n",
            "Epoch 23/50\n",
            "145/145 [==============================] - 5s 32ms/step - loss: 1.3364 - accuracy: 0.5324 - val_loss: 1.2935 - val_accuracy: 0.5454\n",
            "Epoch 24/50\n",
            "145/145 [==============================] - 5s 32ms/step - loss: 1.3043 - accuracy: 0.5391 - val_loss: 1.4089 - val_accuracy: 0.5132\n",
            "Epoch 25/50\n",
            "145/145 [==============================] - 5s 32ms/step - loss: 1.2832 - accuracy: 0.5489 - val_loss: 1.2348 - val_accuracy: 0.5473\n",
            "Epoch 26/50\n",
            "145/145 [==============================] - 5s 33ms/step - loss: 1.2759 - accuracy: 0.5451 - val_loss: 1.2271 - val_accuracy: 0.5424\n",
            "Epoch 27/50\n",
            "145/145 [==============================] - 5s 32ms/step - loss: 1.2721 - accuracy: 0.5518 - val_loss: 1.2313 - val_accuracy: 0.5463\n",
            "Epoch 28/50\n",
            "145/145 [==============================] - 5s 32ms/step - loss: 1.2742 - accuracy: 0.5469 - val_loss: 1.1865 - val_accuracy: 0.5620\n",
            "Epoch 29/50\n",
            "145/145 [==============================] - 5s 33ms/step - loss: 1.3149 - accuracy: 0.5390 - val_loss: 1.3239 - val_accuracy: 0.5307\n",
            "Epoch 30/50\n",
            "145/145 [==============================] - 5s 33ms/step - loss: 1.2605 - accuracy: 0.5584 - val_loss: 1.2469 - val_accuracy: 0.5493\n",
            "Epoch 31/50\n",
            "145/145 [==============================] - 5s 32ms/step - loss: 1.2509 - accuracy: 0.5576 - val_loss: 1.3080 - val_accuracy: 0.5327\n",
            "Epoch 32/50\n",
            "145/145 [==============================] - 5s 32ms/step - loss: 1.2583 - accuracy: 0.5516 - val_loss: 1.4280 - val_accuracy: 0.5239\n",
            "Epoch 33/50\n",
            "145/145 [==============================] - 5s 33ms/step - loss: 1.2511 - accuracy: 0.5602 - val_loss: 1.2752 - val_accuracy: 0.5483\n",
            "Epoch 34/50\n",
            "145/145 [==============================] - 5s 31ms/step - loss: 1.2447 - accuracy: 0.5588 - val_loss: 1.2677 - val_accuracy: 0.5561\n",
            "Epoch 35/50\n",
            "145/145 [==============================] - 5s 32ms/step - loss: 1.2293 - accuracy: 0.5653 - val_loss: 1.2589 - val_accuracy: 0.5483\n",
            "Epoch 36/50\n",
            "145/145 [==============================] - 5s 33ms/step - loss: 1.2344 - accuracy: 0.5624 - val_loss: 1.2962 - val_accuracy: 0.5405\n",
            "Epoch 37/50\n",
            "145/145 [==============================] - 5s 32ms/step - loss: 1.2224 - accuracy: 0.5623 - val_loss: 1.3353 - val_accuracy: 0.5268\n",
            "Epoch 38/50\n",
            "145/145 [==============================] - 5s 32ms/step - loss: 1.2194 - accuracy: 0.5609 - val_loss: 1.3299 - val_accuracy: 0.5288\n",
            "Epoch 39/50\n",
            "145/145 [==============================] - 5s 32ms/step - loss: 1.2208 - accuracy: 0.5625 - val_loss: 1.3097 - val_accuracy: 0.5307\n",
            "Epoch 40/50\n",
            "145/145 [==============================] - 5s 32ms/step - loss: 1.2209 - accuracy: 0.5646 - val_loss: 1.2306 - val_accuracy: 0.5541\n",
            "Epoch 41/50\n",
            "145/145 [==============================] - 5s 31ms/step - loss: 1.1980 - accuracy: 0.5759 - val_loss: 1.2075 - val_accuracy: 0.5629\n",
            "Epoch 42/50\n",
            "145/145 [==============================] - 5s 32ms/step - loss: 1.2033 - accuracy: 0.5759 - val_loss: 1.2410 - val_accuracy: 0.5434\n",
            "Epoch 43/50\n",
            "145/145 [==============================] - 5s 33ms/step - loss: 1.1856 - accuracy: 0.5747 - val_loss: 1.2967 - val_accuracy: 0.5366\n",
            "Epoch 44/50\n",
            "145/145 [==============================] - 5s 34ms/step - loss: 1.1866 - accuracy: 0.5750 - val_loss: 1.2408 - val_accuracy: 0.5366\n",
            "Epoch 45/50\n",
            "145/145 [==============================] - 5s 32ms/step - loss: 1.1800 - accuracy: 0.5806 - val_loss: 1.3308 - val_accuracy: 0.5385\n",
            "Epoch 46/50\n",
            "145/145 [==============================] - 5s 32ms/step - loss: 1.1789 - accuracy: 0.5705 - val_loss: 1.1705 - val_accuracy: 0.5707\n",
            "Epoch 47/50\n",
            "145/145 [==============================] - 5s 33ms/step - loss: 1.1802 - accuracy: 0.5724 - val_loss: 1.2375 - val_accuracy: 0.5337\n",
            "Epoch 48/50\n",
            "145/145 [==============================] - 5s 32ms/step - loss: 1.1848 - accuracy: 0.5747 - val_loss: 1.3150 - val_accuracy: 0.5502\n",
            "Epoch 49/50\n",
            "145/145 [==============================] - 5s 32ms/step - loss: 1.1781 - accuracy: 0.5817 - val_loss: 1.1996 - val_accuracy: 0.5561\n",
            "Epoch 50/50\n",
            "145/145 [==============================] - 5s 31ms/step - loss: 1.1709 - accuracy: 0.5753 - val_loss: 1.2302 - val_accuracy: 0.5493\n"
          ],
          "name": "stdout"
        }
      ]
    },
    {
      "cell_type": "code",
      "metadata": {
        "id": "x-LCuf7Q43-K",
        "colab_type": "code",
        "colab": {}
      },
      "source": [
        ""
      ],
      "execution_count": 0,
      "outputs": []
    },
    {
      "cell_type": "markdown",
      "metadata": {
        "id": "BYfjIEaW0nzw",
        "colab_type": "text"
      },
      "source": [
        "## Ploting the training loss vs validation loss"
      ]
    },
    {
      "cell_type": "code",
      "metadata": {
        "id": "lFfTcsiaxZCT",
        "colab_type": "code",
        "colab": {
          "base_uri": "https://localhost:8080/",
          "height": 295
        },
        "outputId": "92e99adb-7593-4a41-9b9a-85d01698b71a"
      },
      "source": [
        "loss = history.history['loss']\n",
        "val_loss = history.history['val_loss']\n",
        "epochs = range(1, len(loss) + 1)\n",
        "plt.plot(epochs, loss, 'y', label='Training loss')\n",
        "plt.plot(epochs, val_loss, 'r', label='Validation loss')\n",
        "plt.title('Training and validation loss')\n",
        "plt.xlabel('Epochs')\n",
        "plt.ylabel('Loss')\n",
        "plt.legend()\n",
        "plt.show()"
      ],
      "execution_count": 12,
      "outputs": [
        {
          "output_type": "display_data",
          "data": {
            "image/png": "[encoded data removed]",
            "text/plain": [
              "<Figure size 432x288 with 1 Axes>"
            ]
          },
          "metadata": {
            "tags": [],
            "needs_background": "light"
          }
        }
      ]
    },
    {
      "cell_type": "markdown",
      "metadata": {
        "id": "d8ODh9cU0ufK",
        "colab_type": "text"
      },
      "source": [
        "## Ploting the training accuracy vs validation accuracy"
      ]
    },
    {
      "cell_type": "code",
      "metadata": {
        "id": "1iJcrqcqnKIO",
        "colab_type": "code",
        "colab": {
          "base_uri": "https://localhost:8080/",
          "height": 295
        },
        "outputId": "d28c7b1b-5bc6-4a52-eee7-8456024fa410"
      },
      "source": [
        "acc = history.history['accuracy']\n",
        "val_acc = history.history['val_accuracy']\n",
        "plt.plot(epochs, acc, 'y', label='Training acc')\n",
        "plt.plot(epochs, val_acc, 'r', label='Validation acc')\n",
        "plt.title('Training and validation accuracy')\n",
        "plt.xlabel('Epochs')\n",
        "plt.ylabel('Accuracy')\n",
        "plt.legend()\n",
        "plt.show()"
      ],
      "execution_count": 13,
      "outputs": [
        {
          "output_type": "display_data",
          "data": {
            "image/png": "[encoded data removed]",
            "text/plain": [
              "<Figure size 432x288 with 1 Axes>"
            ]
          },
          "metadata": {
            "tags": [],
            "needs_background": "light"
          }
        }
      ]
    },
    {
      "cell_type": "code",
      "metadata": {
        "id": "iGkKbmSV8cwJ",
        "colab_type": "code",
        "colab": {
          "base_uri": "https://localhost:8080/",
          "height": 34
        },
        "outputId": "1de3c1c5-cbfd-47be-c68b-d88380cef006"
      },
      "source": [
        ""
      ],
      "execution_count": 31,
      "outputs": [
        {
          "output_type": "stream",
          "text": [
            "fatal: could not read Username for 'https://github.com': No such device or address\n"
          ],
          "name": "stdout"
        }
      ]
    },
    {
      "cell_type": "code",
      "metadata": {
        "id": "ou54p8Jr8UB-",
        "colab_type": "code",
        "colab": {}
      },
      "source": [
        ""
      ],
      "execution_count": 0,
      "outputs": []
    },
    {
      "cell_type": "code",
      "metadata": {
        "id": "oCp8Op_g8SvX",
        "colab_type": "code",
        "colab": {}
      },
      "source": [
        ""
      ],
      "execution_count": 0,
      "outputs": []
    },
    {
      "cell_type": "code",
      "metadata": {
        "id": "B9VldYoK8Rm3",
        "colab_type": "code",
        "colab": {}
      },
      "source": [
        ""
      ],
      "execution_count": 0,
      "outputs": []
    },
    {
      "cell_type": "code",
      "metadata": {
        "id": "ri2NLhoe8PFy",
        "colab_type": "code",
        "colab": {}
      },
      "source": [
        ""
      ],
      "execution_count": 0,
      "outputs": []
    },
    {
      "cell_type": "code",
      "metadata": {
        "id": "4Kjn0Qq78H37",
        "colab_type": "code",
        "colab": {}
      },
      "source": [
        ""
      ],
      "execution_count": 0,
      "outputs": []
    },
    {
      "cell_type": "code",
      "metadata": {
        "id": "1JVTGpqi71NN",
        "colab_type": "code",
        "colab": {}
      },
      "source": [
        ""
      ],
      "execution_count": 0,
      "outputs": []
    },
    {
      "cell_type": "code",
      "metadata": {
        "id": "_kEiz_Wj7zdZ",
        "colab_type": "code",
        "colab": {}
      },
      "source": [
        ""
      ],
      "execution_count": 0,
      "outputs": []
    },
    {
      "cell_type": "code",
      "metadata": {
        "id": "vQ1QUEl_7i_2",
        "colab_type": "code",
        "colab": {}
      },
      "source": [
        ""
      ],
      "execution_count": 0,
      "outputs": []
    },
    {
      "cell_type": "code",
      "metadata": {
        "id": "b8cD-a1F7MLj",
        "colab_type": "code",
        "colab": {}
      },
      "source": [
        ""
      ],
      "execution_count": 0,
      "outputs": []
    }
  ]
}